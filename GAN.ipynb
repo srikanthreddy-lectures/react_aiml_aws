{
  "nbformat": 4,
  "nbformat_minor": 0,
  "metadata": {
    "colab": {
      "name": "Untitled2.ipynb",
      "provenance": [],
      "authorship_tag": "ABX9TyO5+yfZpt/go8M0p/dQ2Y04",
      "include_colab_link": true
    },
    "kernelspec": {
      "name": "python3",
      "display_name": "Python 3"
    },
    "language_info": {
      "name": "python"
    }
  },
  "cells": [
    {
      "cell_type": "markdown",
      "metadata": {
        "id": "view-in-github",
        "colab_type": "text"
      },
      "source": [
        "<a href=\"https://colab.research.google.com/github/srikanthreddy-lectures/react_aiml_aws/blob/main/GAN.ipynb\" target=\"_parent\"><img src=\"https://colab.research.google.com/assets/colab-badge.svg\" alt=\"Open In Colab\"/></a>"
      ]
    },
    {
      "cell_type": "code",
      "execution_count": 1,
      "metadata": {
        "colab": {
          "base_uri": "https://localhost:8080/"
        },
        "id": "bErrrHF-wBAX",
        "outputId": "47d776b7-ced6-4308-ac81-e230728ef43c"
      },
      "outputs": [
        {
          "output_type": "stream",
          "name": "stdout",
          "text": [
            "--2022-01-25 10:20:44--  http://vllab1.ucmerced.edu/~yli62/CartoonGAN/pytorch_pth/Hayao_net_G_float.pth\n",
            "Resolving vllab1.ucmerced.edu (vllab1.ucmerced.edu)... 169.236.184.68\n",
            "Connecting to vllab1.ucmerced.edu (vllab1.ucmerced.edu)|169.236.184.68|:80... connected.\n",
            "HTTP request sent, awaiting response... 200 OK\n",
            "Length: 44529096 (42M)\n",
            "Saving to: ‘Hayao_net_G_float.pth’\n",
            "\n",
            "Hayao_net_G_float.p 100%[===================>]  42.47M  51.4MB/s    in 0.8s    \n",
            "\n",
            "2022-01-25 10:20:44 (51.4 MB/s) - ‘Hayao_net_G_float.pth’ saved [44529096/44529096]\n",
            "\n"
          ]
        }
      ],
      "source": [
        "! mkdir pretrained_models\n",
        "! cd pretrained_models && wget \"http://vllab1.ucmerced.edu/~yli62/CartoonGAN/pytorch_pth/Hayao_net_G_float.pth\""
      ]
    }
  ]
}